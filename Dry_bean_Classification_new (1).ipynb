{
 "cells": [
  {
   "cell_type": "code",
   "execution_count": 1,
   "id": "b9cb134d",
   "metadata": {},
   "outputs": [],
   "source": [
    "import pandas as pd\n",
    "import numpy as np\n",
    "import tensorflow as tf"
   ]
  },
  {
   "cell_type": "code",
   "execution_count": 2,
   "id": "25e821d4",
   "metadata": {
    "scrolled": true
   },
   "outputs": [
    {
     "data": {
      "text/html": [
       "<div>\n",
       "<style scoped>\n",
       "    .dataframe tbody tr th:only-of-type {\n",
       "        vertical-align: middle;\n",
       "    }\n",
       "\n",
       "    .dataframe tbody tr th {\n",
       "        vertical-align: top;\n",
       "    }\n",
       "\n",
       "    .dataframe thead th {\n",
       "        text-align: right;\n",
       "    }\n",
       "</style>\n",
       "<table border=\"1\" class=\"dataframe\">\n",
       "  <thead>\n",
       "    <tr style=\"text-align: right;\">\n",
       "      <th></th>\n",
       "      <th>Area</th>\n",
       "      <th>Perimeter</th>\n",
       "      <th>MajorAxisLength</th>\n",
       "      <th>MinorAxisLength</th>\n",
       "      <th>AspectRation</th>\n",
       "      <th>Eccentricity</th>\n",
       "      <th>ConvexArea</th>\n",
       "      <th>EquivDiameter</th>\n",
       "      <th>Extent</th>\n",
       "      <th>Solidity</th>\n",
       "      <th>roundness</th>\n",
       "      <th>Compactness</th>\n",
       "      <th>ShapeFactor1</th>\n",
       "      <th>ShapeFactor2</th>\n",
       "      <th>ShapeFactor3</th>\n",
       "      <th>ShapeFactor4</th>\n",
       "      <th>Class</th>\n",
       "    </tr>\n",
       "  </thead>\n",
       "  <tbody>\n",
       "    <tr>\n",
       "      <th>0</th>\n",
       "      <td>28395</td>\n",
       "      <td>610.291</td>\n",
       "      <td>208.178117</td>\n",
       "      <td>173.888747</td>\n",
       "      <td>1.197191</td>\n",
       "      <td>0.549812</td>\n",
       "      <td>28715</td>\n",
       "      <td>190.141097</td>\n",
       "      <td>0.763923</td>\n",
       "      <td>0.988856</td>\n",
       "      <td>0.958027</td>\n",
       "      <td>0.913358</td>\n",
       "      <td>0.007332</td>\n",
       "      <td>0.003147</td>\n",
       "      <td>0.834222</td>\n",
       "      <td>0.998724</td>\n",
       "      <td>SEKER</td>\n",
       "    </tr>\n",
       "    <tr>\n",
       "      <th>1</th>\n",
       "      <td>28734</td>\n",
       "      <td>638.018</td>\n",
       "      <td>200.524796</td>\n",
       "      <td>182.734419</td>\n",
       "      <td>1.097356</td>\n",
       "      <td>0.411785</td>\n",
       "      <td>29172</td>\n",
       "      <td>191.272751</td>\n",
       "      <td>0.783968</td>\n",
       "      <td>0.984986</td>\n",
       "      <td>0.887034</td>\n",
       "      <td>0.953861</td>\n",
       "      <td>0.006979</td>\n",
       "      <td>0.003564</td>\n",
       "      <td>0.909851</td>\n",
       "      <td>0.998430</td>\n",
       "      <td>SEKER</td>\n",
       "    </tr>\n",
       "    <tr>\n",
       "      <th>2</th>\n",
       "      <td>29380</td>\n",
       "      <td>624.110</td>\n",
       "      <td>212.826130</td>\n",
       "      <td>175.931143</td>\n",
       "      <td>1.209713</td>\n",
       "      <td>0.562727</td>\n",
       "      <td>29690</td>\n",
       "      <td>193.410904</td>\n",
       "      <td>0.778113</td>\n",
       "      <td>0.989559</td>\n",
       "      <td>0.947849</td>\n",
       "      <td>0.908774</td>\n",
       "      <td>0.007244</td>\n",
       "      <td>0.003048</td>\n",
       "      <td>0.825871</td>\n",
       "      <td>0.999066</td>\n",
       "      <td>SEKER</td>\n",
       "    </tr>\n",
       "    <tr>\n",
       "      <th>3</th>\n",
       "      <td>30008</td>\n",
       "      <td>645.884</td>\n",
       "      <td>210.557999</td>\n",
       "      <td>182.516516</td>\n",
       "      <td>1.153638</td>\n",
       "      <td>0.498616</td>\n",
       "      <td>30724</td>\n",
       "      <td>195.467062</td>\n",
       "      <td>0.782681</td>\n",
       "      <td>0.976696</td>\n",
       "      <td>0.903936</td>\n",
       "      <td>0.928329</td>\n",
       "      <td>0.007017</td>\n",
       "      <td>0.003215</td>\n",
       "      <td>0.861794</td>\n",
       "      <td>0.994199</td>\n",
       "      <td>SEKER</td>\n",
       "    </tr>\n",
       "    <tr>\n",
       "      <th>4</th>\n",
       "      <td>30140</td>\n",
       "      <td>620.134</td>\n",
       "      <td>201.847882</td>\n",
       "      <td>190.279279</td>\n",
       "      <td>1.060798</td>\n",
       "      <td>0.333680</td>\n",
       "      <td>30417</td>\n",
       "      <td>195.896503</td>\n",
       "      <td>0.773098</td>\n",
       "      <td>0.990893</td>\n",
       "      <td>0.984877</td>\n",
       "      <td>0.970516</td>\n",
       "      <td>0.006697</td>\n",
       "      <td>0.003665</td>\n",
       "      <td>0.941900</td>\n",
       "      <td>0.999166</td>\n",
       "      <td>SEKER</td>\n",
       "    </tr>\n",
       "  </tbody>\n",
       "</table>\n",
       "</div>"
      ],
      "text/plain": [
       "    Area  Perimeter  MajorAxisLength  MinorAxisLength  AspectRation  \\\n",
       "0  28395    610.291       208.178117       173.888747      1.197191   \n",
       "1  28734    638.018       200.524796       182.734419      1.097356   \n",
       "2  29380    624.110       212.826130       175.931143      1.209713   \n",
       "3  30008    645.884       210.557999       182.516516      1.153638   \n",
       "4  30140    620.134       201.847882       190.279279      1.060798   \n",
       "\n",
       "   Eccentricity  ConvexArea  EquivDiameter    Extent  Solidity  roundness  \\\n",
       "0      0.549812       28715     190.141097  0.763923  0.988856   0.958027   \n",
       "1      0.411785       29172     191.272751  0.783968  0.984986   0.887034   \n",
       "2      0.562727       29690     193.410904  0.778113  0.989559   0.947849   \n",
       "3      0.498616       30724     195.467062  0.782681  0.976696   0.903936   \n",
       "4      0.333680       30417     195.896503  0.773098  0.990893   0.984877   \n",
       "\n",
       "   Compactness  ShapeFactor1  ShapeFactor2  ShapeFactor3  ShapeFactor4  Class  \n",
       "0     0.913358      0.007332      0.003147      0.834222      0.998724  SEKER  \n",
       "1     0.953861      0.006979      0.003564      0.909851      0.998430  SEKER  \n",
       "2     0.908774      0.007244      0.003048      0.825871      0.999066  SEKER  \n",
       "3     0.928329      0.007017      0.003215      0.861794      0.994199  SEKER  \n",
       "4     0.970516      0.006697      0.003665      0.941900      0.999166  SEKER  "
      ]
     },
     "execution_count": 2,
     "metadata": {},
     "output_type": "execute_result"
    }
   ],
   "source": [
    "df = pd.read_csv('Dry_Bean_Dataset/Dry_Bean_Dataset_new.csv')\n",
    "df.head()"
   ]
  },
  {
   "cell_type": "code",
   "execution_count": 3,
   "id": "c69b5da9",
   "metadata": {
    "scrolled": true
   },
   "outputs": [
    {
     "data": {
      "text/plain": [
       "Area               0\n",
       "Perimeter          0\n",
       "MajorAxisLength    0\n",
       "MinorAxisLength    0\n",
       "AspectRation       0\n",
       "Eccentricity       0\n",
       "ConvexArea         0\n",
       "EquivDiameter      0\n",
       "Extent             0\n",
       "Solidity           0\n",
       "roundness          0\n",
       "Compactness        0\n",
       "ShapeFactor1       0\n",
       "ShapeFactor2       0\n",
       "ShapeFactor3       0\n",
       "ShapeFactor4       0\n",
       "Class              0\n",
       "dtype: int64"
      ]
     },
     "execution_count": 3,
     "metadata": {},
     "output_type": "execute_result"
    }
   ],
   "source": [
    "df.isnull().sum()"
   ]
  },
  {
   "cell_type": "code",
   "execution_count": 4,
   "id": "f014d9ce",
   "metadata": {},
   "outputs": [
    {
     "data": {
      "text/plain": [
       "DERMASON    3546\n",
       "SIRA        2636\n",
       "SEKER       2027\n",
       "HOROZ       1928\n",
       "CALI        1630\n",
       "BARBUNYA    1322\n",
       "BOMBAY       522\n",
       "Name: Class, dtype: int64"
      ]
     },
     "execution_count": 4,
     "metadata": {},
     "output_type": "execute_result"
    }
   ],
   "source": [
    "df['Class'].value_counts()"
   ]
  },
  {
   "cell_type": "code",
   "execution_count": 5,
   "id": "2179b5f5",
   "metadata": {},
   "outputs": [],
   "source": [
    "X = df.iloc[:,:-1].values\n",
    "y = df.iloc[:,-1].values"
   ]
  },
  {
   "cell_type": "code",
   "execution_count": 6,
   "id": "594882e7",
   "metadata": {},
   "outputs": [],
   "source": [
    "from sklearn.preprocessing import LabelEncoder\n",
    "le = LabelEncoder()\n",
    "y = le.fit_transform(y)"
   ]
  },
  {
   "cell_type": "code",
   "execution_count": 7,
   "id": "7865f9c5",
   "metadata": {},
   "outputs": [
    {
     "data": {
      "text/plain": [
       "array([[2.83950000e+04, 6.10291000e+02, 2.08178117e+02, ...,\n",
       "        3.14728900e-03, 8.34222388e-01, 9.98723889e-01],\n",
       "       [2.87340000e+04, 6.38018000e+02, 2.00524796e+02, ...,\n",
       "        3.56362400e-03, 9.09850506e-01, 9.98430331e-01],\n",
       "       [2.93800000e+04, 6.24110000e+02, 2.12826130e+02, ...,\n",
       "        3.04773300e-03, 8.25870617e-01, 9.99066137e-01],\n",
       "       ...,\n",
       "       [4.21390000e+04, 7.59321000e+02, 2.81539928e+02, ...,\n",
       "        1.88827100e-03, 6.76884164e-01, 9.96767264e-01],\n",
       "       [4.21470000e+04, 7.63779000e+02, 2.83382636e+02, ...,\n",
       "        1.85202500e-03, 6.68236684e-01, 9.95222420e-01],\n",
       "       [4.21590000e+04, 7.72237000e+02, 2.95142741e+02, ...,\n",
       "        1.63981200e-03, 6.16220592e-01, 9.98179623e-01]])"
      ]
     },
     "execution_count": 7,
     "metadata": {},
     "output_type": "execute_result"
    }
   ],
   "source": [
    "X"
   ]
  },
  {
   "cell_type": "code",
   "execution_count": 8,
   "id": "05a968af",
   "metadata": {},
   "outputs": [
    {
     "data": {
      "text/plain": [
       "array([5, 5, 5, ..., 3, 3, 3])"
      ]
     },
     "execution_count": 8,
     "metadata": {},
     "output_type": "execute_result"
    }
   ],
   "source": [
    "y"
   ]
  },
  {
   "cell_type": "code",
   "execution_count": 9,
   "id": "0dd7b205",
   "metadata": {},
   "outputs": [],
   "source": [
    "from sklearn.model_selection import train_test_split\n",
    "X_train,X_test,y_train,y_test = train_test_split(X,y,test_size=0.25,random_state=0)"
   ]
  },
  {
   "cell_type": "code",
   "execution_count": 10,
   "id": "c68b2d01",
   "metadata": {},
   "outputs": [],
   "source": [
    "from sklearn.preprocessing import StandardScaler\n",
    "sc = StandardScaler()\n",
    "X_train = sc.fit_transform(X_train)\n",
    "X_test = sc.fit_transform(X_test)"
   ]
  },
  {
   "cell_type": "code",
   "execution_count": 11,
   "id": "c9c305ae",
   "metadata": {
    "scrolled": true
   },
   "outputs": [],
   "source": [
    "# ann = tf.keras.models.Sequential()\n",
    "# ann.add(tf.keras.layers.Dense(units=14,activation='elu'))\n",
    "# ann.add(tf.keras.layers.Dense(units=14,activation='elu'))\n",
    "# ann.add(tf.keras.layers.Dense(units=8,activation='softmax'))\n",
    "# ann.compile(optimizer='adam',loss='sparse_categorical_crossentropy', metrics=['accuracy'])\n",
    "# ann.fit(X_train,y_train,batch_size=30,epochs=100)"
   ]
  },
  {
   "cell_type": "code",
   "execution_count": 12,
   "id": "a8fa3a53",
   "metadata": {},
   "outputs": [],
   "source": [
    "# y_predict = ann.predict(X_test)\n",
    "# ann.evaluate(X_test,y_test)"
   ]
  },
  {
   "cell_type": "code",
   "execution_count": 13,
   "id": "7c0a7a03",
   "metadata": {
    "scrolled": true
   },
   "outputs": [
    {
     "name": "stdout",
     "output_type": "stream",
     "text": [
      "Epoch 1/100\n",
      "319/319 [==============================] - 3s 3ms/step - loss: 1.0109 - accuracy: 0.6686\n",
      "Epoch 2/100\n",
      "319/319 [==============================] - 1s 3ms/step - loss: 0.3892 - accuracy: 0.8784\n",
      "Epoch 3/100\n",
      "319/319 [==============================] - 1s 3ms/step - loss: 0.2747 - accuracy: 0.9148\n",
      "Epoch 4/100\n",
      "319/319 [==============================] - 1s 3ms/step - loss: 0.2367 - accuracy: 0.9179\n",
      "Epoch 5/100\n",
      "319/319 [==============================] - 1s 3ms/step - loss: 0.2235 - accuracy: 0.9203\n",
      "Epoch 6/100\n",
      "319/319 [==============================] - 1s 3ms/step - loss: 0.2172 - accuracy: 0.9235\n",
      "Epoch 7/100\n",
      "319/319 [==============================] - 1s 3ms/step - loss: 0.2143 - accuracy: 0.9211\n",
      "Epoch 8/100\n",
      "319/319 [==============================] - 1s 3ms/step - loss: 0.2108 - accuracy: 0.9227\n",
      "Epoch 9/100\n",
      "319/319 [==============================] - 1s 3ms/step - loss: 0.2087 - accuracy: 0.9239\n",
      "Epoch 10/100\n",
      "319/319 [==============================] - 1s 3ms/step - loss: 0.2067 - accuracy: 0.9257\n",
      "Epoch 11/100\n",
      "319/319 [==============================] - 1s 3ms/step - loss: 0.2051 - accuracy: 0.9240\n",
      "Epoch 12/100\n",
      "319/319 [==============================] - 1s 3ms/step - loss: 0.2023 - accuracy: 0.9267\n",
      "Epoch 13/100\n",
      "319/319 [==============================] - 1s 3ms/step - loss: 0.2012 - accuracy: 0.9255\n",
      "Epoch 14/100\n",
      "319/319 [==============================] - 1s 3ms/step - loss: 0.1994 - accuracy: 0.9250\n",
      "Epoch 15/100\n",
      "319/319 [==============================] - 1s 3ms/step - loss: 0.1985 - accuracy: 0.9261\n",
      "Epoch 16/100\n",
      "319/319 [==============================] - 1s 3ms/step - loss: 0.1969 - accuracy: 0.9263\n",
      "Epoch 17/100\n",
      "319/319 [==============================] - 1s 3ms/step - loss: 0.1969 - accuracy: 0.9267\n",
      "Epoch 18/100\n",
      "319/319 [==============================] - 1s 3ms/step - loss: 0.1963 - accuracy: 0.9258\n",
      "Epoch 19/100\n",
      "319/319 [==============================] - 1s 3ms/step - loss: 0.1947 - accuracy: 0.9280\n",
      "Epoch 20/100\n",
      "319/319 [==============================] - 1s 3ms/step - loss: 0.1936 - accuracy: 0.9277\n",
      "Epoch 21/100\n",
      "319/319 [==============================] - 1s 3ms/step - loss: 0.1939 - accuracy: 0.9285\n",
      "Epoch 22/100\n",
      "319/319 [==============================] - 1s 3ms/step - loss: 0.1931 - accuracy: 0.9263\n",
      "Epoch 23/100\n",
      "319/319 [==============================] - 1s 3ms/step - loss: 0.1927 - accuracy: 0.9284\n",
      "Epoch 24/100\n",
      "319/319 [==============================] - 1s 3ms/step - loss: 0.1908 - accuracy: 0.9279\n",
      "Epoch 25/100\n",
      "319/319 [==============================] - 1s 3ms/step - loss: 0.1911 - accuracy: 0.9292\n",
      "Epoch 26/100\n",
      "319/319 [==============================] - 1s 3ms/step - loss: 0.1898 - accuracy: 0.9279\n",
      "Epoch 27/100\n",
      "319/319 [==============================] - 1s 3ms/step - loss: 0.1893 - accuracy: 0.9283\n",
      "Epoch 28/100\n",
      "319/319 [==============================] - 1s 3ms/step - loss: 0.1909 - accuracy: 0.9296\n",
      "Epoch 29/100\n",
      "319/319 [==============================] - 1s 3ms/step - loss: 0.1890 - accuracy: 0.9280\n",
      "Epoch 30/100\n",
      "319/319 [==============================] - 1s 3ms/step - loss: 0.1894 - accuracy: 0.9286\n",
      "Epoch 31/100\n",
      "319/319 [==============================] - 1s 3ms/step - loss: 0.1886 - accuracy: 0.9290\n",
      "Epoch 32/100\n",
      "319/319 [==============================] - 1s 3ms/step - loss: 0.1888 - accuracy: 0.9282\n",
      "Epoch 33/100\n",
      "319/319 [==============================] - 1s 3ms/step - loss: 0.1870 - accuracy: 0.9295\n",
      "Epoch 34/100\n",
      "319/319 [==============================] - 1s 3ms/step - loss: 0.1874 - accuracy: 0.9308\n",
      "Epoch 35/100\n",
      "319/319 [==============================] - 1s 3ms/step - loss: 0.1874 - accuracy: 0.9301\n",
      "Epoch 36/100\n",
      "319/319 [==============================] - 1s 3ms/step - loss: 0.1867 - accuracy: 0.9287\n",
      "Epoch 37/100\n",
      "319/319 [==============================] - 1s 3ms/step - loss: 0.1865 - accuracy: 0.9305\n",
      "Epoch 38/100\n",
      "319/319 [==============================] - 1s 3ms/step - loss: 0.1855 - accuracy: 0.9314\n",
      "Epoch 39/100\n",
      "319/319 [==============================] - 1s 3ms/step - loss: 0.1854 - accuracy: 0.9296\n",
      "Epoch 40/100\n",
      "319/319 [==============================] - 1s 3ms/step - loss: 0.1853 - accuracy: 0.9303\n",
      "Epoch 41/100\n",
      "319/319 [==============================] - 1s 3ms/step - loss: 0.1854 - accuracy: 0.9303\n",
      "Epoch 42/100\n",
      "319/319 [==============================] - 1s 3ms/step - loss: 0.1853 - accuracy: 0.9302\n",
      "Epoch 43/100\n",
      "319/319 [==============================] - 1s 3ms/step - loss: 0.1857 - accuracy: 0.9299\n",
      "Epoch 44/100\n",
      "319/319 [==============================] - 1s 3ms/step - loss: 0.1842 - accuracy: 0.9328\n",
      "Epoch 45/100\n",
      "319/319 [==============================] - 1s 3ms/step - loss: 0.1847 - accuracy: 0.9293\n",
      "Epoch 46/100\n",
      "319/319 [==============================] - 1s 3ms/step - loss: 0.1836 - accuracy: 0.9304\n",
      "Epoch 47/100\n",
      "319/319 [==============================] - 1s 3ms/step - loss: 0.1838 - accuracy: 0.9306\n",
      "Epoch 48/100\n",
      "319/319 [==============================] - 1s 3ms/step - loss: 0.1844 - accuracy: 0.9302\n",
      "Epoch 49/100\n",
      "319/319 [==============================] - 1s 3ms/step - loss: 0.1834 - accuracy: 0.9295\n",
      "Epoch 50/100\n",
      "319/319 [==============================] - 1s 3ms/step - loss: 0.1830 - accuracy: 0.9298\n",
      "Epoch 51/100\n",
      "319/319 [==============================] - 1s 3ms/step - loss: 0.1841 - accuracy: 0.9295\n",
      "Epoch 52/100\n",
      "319/319 [==============================] - 1s 3ms/step - loss: 0.1829 - accuracy: 0.9314\n",
      "Epoch 53/100\n",
      "319/319 [==============================] - 1s 3ms/step - loss: 0.1840 - accuracy: 0.9315\n",
      "Epoch 54/100\n",
      "319/319 [==============================] - 1s 3ms/step - loss: 0.1826 - accuracy: 0.9314\n",
      "Epoch 55/100\n",
      "319/319 [==============================] - 1s 3ms/step - loss: 0.1827 - accuracy: 0.9314\n",
      "Epoch 56/100\n",
      "319/319 [==============================] - 1s 3ms/step - loss: 0.1821 - accuracy: 0.9305\n",
      "Epoch 57/100\n",
      "319/319 [==============================] - 1s 3ms/step - loss: 0.1823 - accuracy: 0.9309\n",
      "Epoch 58/100\n",
      "319/319 [==============================] - 1s 3ms/step - loss: 0.1829 - accuracy: 0.9316\n",
      "Epoch 59/100\n",
      "319/319 [==============================] - 1s 3ms/step - loss: 0.1821 - accuracy: 0.9329\n",
      "Epoch 60/100\n",
      "319/319 [==============================] - 1s 3ms/step - loss: 0.1826 - accuracy: 0.9315\n",
      "Epoch 61/100\n",
      "319/319 [==============================] - 1s 3ms/step - loss: 0.1819 - accuracy: 0.9315\n",
      "Epoch 62/100\n",
      "319/319 [==============================] - 1s 3ms/step - loss: 0.1811 - accuracy: 0.9316\n",
      "Epoch 63/100\n",
      "319/319 [==============================] - 1s 3ms/step - loss: 0.1810 - accuracy: 0.9312\n",
      "Epoch 64/100\n",
      "319/319 [==============================] - 1s 3ms/step - loss: 0.1811 - accuracy: 0.9305\n",
      "Epoch 65/100\n",
      "319/319 [==============================] - 1s 3ms/step - loss: 0.1808 - accuracy: 0.9303\n",
      "Epoch 66/100\n",
      "319/319 [==============================] - 1s 3ms/step - loss: 0.1807 - accuracy: 0.9317\n",
      "Epoch 67/100\n",
      "319/319 [==============================] - 1s 3ms/step - loss: 0.1816 - accuracy: 0.9304\n",
      "Epoch 68/100\n",
      "319/319 [==============================] - 1s 3ms/step - loss: 0.1808 - accuracy: 0.9304\n",
      "Epoch 69/100\n",
      "319/319 [==============================] - 1s 3ms/step - loss: 0.1816 - accuracy: 0.9298\n",
      "Epoch 70/100\n",
      "319/319 [==============================] - 1s 3ms/step - loss: 0.1803 - accuracy: 0.9306\n",
      "Epoch 71/100\n",
      "319/319 [==============================] - 1s 3ms/step - loss: 0.1805 - accuracy: 0.9308\n",
      "Epoch 72/100\n",
      "319/319 [==============================] - 1s 3ms/step - loss: 0.1797 - accuracy: 0.9316\n",
      "Epoch 73/100\n",
      "319/319 [==============================] - 1s 3ms/step - loss: 0.1796 - accuracy: 0.9318\n",
      "Epoch 74/100\n",
      "319/319 [==============================] - 1s 3ms/step - loss: 0.1799 - accuracy: 0.9316\n",
      "Epoch 75/100\n",
      "319/319 [==============================] - 1s 3ms/step - loss: 0.1799 - accuracy: 0.9313\n",
      "Epoch 76/100\n",
      "319/319 [==============================] - 1s 3ms/step - loss: 0.1795 - accuracy: 0.9327\n",
      "Epoch 77/100\n",
      "319/319 [==============================] - 1s 3ms/step - loss: 0.1798 - accuracy: 0.9317\n",
      "Epoch 78/100\n",
      "319/319 [==============================] - 1s 3ms/step - loss: 0.1796 - accuracy: 0.9308\n",
      "Epoch 79/100\n",
      "319/319 [==============================] - 1s 3ms/step - loss: 0.1788 - accuracy: 0.9310\n",
      "Epoch 80/100\n",
      "319/319 [==============================] - 1s 3ms/step - loss: 0.1796 - accuracy: 0.9319\n",
      "Epoch 81/100\n"
     ]
    },
    {
     "name": "stdout",
     "output_type": "stream",
     "text": [
      "319/319 [==============================] - 1s 3ms/step - loss: 0.1796 - accuracy: 0.9307\n",
      "Epoch 82/100\n",
      "319/319 [==============================] - 1s 3ms/step - loss: 0.1787 - accuracy: 0.9319\n",
      "Epoch 83/100\n",
      "319/319 [==============================] - 1s 3ms/step - loss: 0.1785 - accuracy: 0.9309\n",
      "Epoch 84/100\n",
      "319/319 [==============================] - 1s 3ms/step - loss: 0.1788 - accuracy: 0.9311\n",
      "Epoch 85/100\n",
      "319/319 [==============================] - 1s 3ms/step - loss: 0.1780 - accuracy: 0.9322\n",
      "Epoch 86/100\n",
      "319/319 [==============================] - 1s 3ms/step - loss: 0.1779 - accuracy: 0.9333\n",
      "Epoch 87/100\n",
      "319/319 [==============================] - 1s 3ms/step - loss: 0.1783 - accuracy: 0.9333\n",
      "Epoch 88/100\n",
      "319/319 [==============================] - 1s 3ms/step - loss: 0.1771 - accuracy: 0.9329\n",
      "Epoch 89/100\n",
      "319/319 [==============================] - 1s 3ms/step - loss: 0.1788 - accuracy: 0.9303\n",
      "Epoch 90/100\n",
      "319/319 [==============================] - 1s 3ms/step - loss: 0.1789 - accuracy: 0.9324\n",
      "Epoch 91/100\n",
      "319/319 [==============================] - 1s 3ms/step - loss: 0.1782 - accuracy: 0.9304\n",
      "Epoch 92/100\n",
      "319/319 [==============================] - 1s 3ms/step - loss: 0.1792 - accuracy: 0.9312\n",
      "Epoch 93/100\n",
      "319/319 [==============================] - 1s 3ms/step - loss: 0.1781 - accuracy: 0.9323\n",
      "Epoch 94/100\n",
      "319/319 [==============================] - 1s 3ms/step - loss: 0.1774 - accuracy: 0.9327\n",
      "Epoch 95/100\n",
      "319/319 [==============================] - 1s 3ms/step - loss: 0.1774 - accuracy: 0.9314\n",
      "Epoch 96/100\n",
      "319/319 [==============================] - 1s 3ms/step - loss: 0.1766 - accuracy: 0.9328\n",
      "Epoch 97/100\n",
      "319/319 [==============================] - 1s 3ms/step - loss: 0.1774 - accuracy: 0.9330\n",
      "Epoch 98/100\n",
      "319/319 [==============================] - 1s 3ms/step - loss: 0.1762 - accuracy: 0.9335\n",
      "Epoch 99/100\n",
      "319/319 [==============================] - 1s 3ms/step - loss: 0.1765 - accuracy: 0.9327\n",
      "Epoch 100/100\n",
      "319/319 [==============================] - 1s 3ms/step - loss: 0.1776 - accuracy: 0.9316\n"
     ]
    }
   ],
   "source": [
    "ann = tf.keras.models.Sequential()\n",
    "ann.add(tf.keras.layers.Dense(units=14,activation='relu'))\n",
    "ann.add(tf.keras.layers.Dense(units=14,activation='relu'))\n",
    "ann.add(tf.keras.layers.Dense(units=7,activation='sigmoid'))\n",
    "ann.compile(optimizer='adam',loss='sparse_categorical_crossentropy', metrics=['accuracy'])\n",
    "history = ann.fit(X_train,y_train,batch_size=32,epochs=100)"
   ]
  },
  {
   "cell_type": "code",
   "execution_count": 14,
   "id": "46e40dc4",
   "metadata": {},
   "outputs": [
    {
     "name": "stdout",
     "output_type": "stream",
     "text": [
      "107/107 [==============================] - 1s 3ms/step - loss: 0.1903 - accuracy: 0.9315\n"
     ]
    },
    {
     "data": {
      "text/plain": [
       "[0.19029930233955383, 0.9315310120582581]"
      ]
     },
     "execution_count": 14,
     "metadata": {},
     "output_type": "execute_result"
    }
   ],
   "source": [
    "ann.evaluate(X_test,y_test)"
   ]
  },
  {
   "cell_type": "code",
   "execution_count": 15,
   "id": "663881bc",
   "metadata": {},
   "outputs": [
    {
     "data": {
      "image/png": "[encoded data removed]",
      "text/plain": [
       "<Figure size 432x288 with 1 Axes>"
      ]
     },
     "metadata": {
      "needs_background": "light"
     },
     "output_type": "display_data"
    }
   ],
   "source": [
    "import matplotlib.pyplot as plt\n",
    "\n",
    "accuracy = history.history['accuracy']\n",
    "loss = history.history['loss']\n",
    "\n",
    "epochs = range(len(accuracy))\n",
    "\n",
    "plt.plot(epochs,accuracy,label='Accuraccy')\n",
    "plt.plot(epochs,loss,label='Loss')\n",
    "plt.legend()\n",
    "plt.show()"
   ]
  },
  {
   "cell_type": "code",
   "execution_count": null,
   "id": "26e1dc9c",
   "metadata": {},
   "outputs": [],
   "source": []
  },
  {
   "cell_type": "code",
   "execution_count": null,
   "id": "fa633231",
   "metadata": {},
   "outputs": [],
   "source": []
  }
 ],
 "metadata": {
  "kernelspec": {
   "display_name": "Python 3 (ipykernel)",
   "language": "python",
   "name": "python3"
  },
  "language_info": {
   "codemirror_mode": {
    "name": "ipython",
    "version": 3
   },
   "file_extension": ".py",
   "mimetype": "text/x-python",
   "name": "python",
   "nbconvert_exporter": "python",
   "pygments_lexer": "ipython3",
   "version": "3.10.1"
  }
 },
 "nbformat": 4,
 "nbformat_minor": 5
}
